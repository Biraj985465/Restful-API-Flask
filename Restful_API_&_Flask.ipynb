{
  "cells": [
    {
      "cell_type": "markdown",
      "metadata": {
        "id": "TNbcTtn5650A"
      },
      "source": [
        "# Restful API & Flask"
      ]
    },
    {
      "cell_type": "markdown",
      "metadata": {
        "id": "nEoE8iXM65xp"
      },
      "source": [
        "1. What is a RESTful API ?"
      ]
    },
    {
      "cell_type": "markdown",
      "metadata": {
        "id": "9aSqDwh99gBf"
      },
      "source": [
        "  - A RESTful API is a simple, scalable, and commonly used way to build web services, particularly suitable for CRUD (Create, Read, Update, Delete) operations on data."
      ]
    },
    {
      "cell_type": "markdown",
      "metadata": {
        "id": "W-m6tOTZ65vH"
      },
      "source": [
        "2. Explain the concept of API specification."
      ]
    },
    {
      "cell_type": "markdown",
      "metadata": {
        "id": "1sAH9Fjy9uZa"
      },
      "source": [
        "  - An API specification is like a contract that defines exactly how a client and server communicate. It enables reliable integration, reduces bugs, and allows automation through tooling."
      ]
    },
    {
      "cell_type": "markdown",
      "metadata": {
        "id": "shj24iYZ65se"
      },
      "source": [
        "3. What is Flask, and why is it popular for building APIs ?"
      ]
    },
    {
      "cell_type": "markdown",
      "metadata": {
        "id": "WqbG_thD96jh"
      },
      "source": [
        "  - Flask is popular for building APIs because it offers a clean, Pythonic, and minimalistic approach to web development. It gives developers the power to quickly create functional APIs without the overhead of a heavy framework."
      ]
    },
    {
      "cell_type": "markdown",
      "metadata": {
        "id": "JHUuIE7J65pa"
      },
      "source": [
        "4. What is routing in Flask ?"
      ]
    },
    {
      "cell_type": "markdown",
      "metadata": {
        "id": "2OuY5Ajs-H9e"
      },
      "source": [
        "  - Routing in Flask is how the framework knows which function to run for a given URL. It's a core concept that enables you to define your application's structure, connect endpoints to business logic, and handle HTTP requests in a clean, Pythonic way."
      ]
    },
    {
      "cell_type": "markdown",
      "metadata": {
        "id": "SFaGMt8i65m3"
      },
      "source": [
        "5. How do you create a simple Flask application ?"
      ]
    },
    {
      "cell_type": "markdown",
      "metadata": {
        "id": "OGR_NMmb-UGU"
      },
      "source": [
        "  - To create a simple Flask app:\n",
        "1. Install Flask (pip install flask)\n",
        "2. Create a Python file and initialize the app\n",
        "3. Define routes using @app.route()\n",
        "4. Run the app and visit it in a browser"
      ]
    },
    {
      "cell_type": "markdown",
      "metadata": {
        "id": "Rivag4XJ65kV"
      },
      "source": [
        "6. What are HTTP methods used in RESTful APIs ?"
      ]
    },
    {
      "cell_type": "markdown",
      "metadata": {
        "id": "DJrWxBeT-uub"
      },
      "source": [
        "  - HTTP methods are the foundation of how RESTful APIs work. Each method corresponds to a specific type of action, ensuring that APIs are intuitive, consistent, and aligned with web standards."
      ]
    },
    {
      "cell_type": "markdown",
      "metadata": {
        "id": "Na4Sf41K65hm"
      },
      "source": [
        "7. What is the purpose of the @app.route() decorator in Flask ?"
      ]
    },
    {
      "cell_type": "markdown",
      "metadata": {
        "id": "FTr7trGI-9iY"
      },
      "source": [
        "  - The @app.route() decorator in Flask is essential for routing — it tells Flask which function to run when a client accesses a particular URL path. It’s the backbone of defining how your web application or API responds to different requests."
      ]
    },
    {
      "cell_type": "markdown",
      "metadata": {
        "id": "GctixkFz65e2"
      },
      "source": [
        "8. What is the difference between GET and POST HTTP methods ?"
      ]
    },
    {
      "cell_type": "markdown",
      "metadata": {
        "id": "oEn18pM6_LLG"
      },
      "source": [
        "  - GET is for reading data. It's safe, repeatable, and data is passed via the URL.\n",
        "  - POST is for sending or creating data. It’s used for operations that change server state and passes data via the request body."
      ]
    },
    {
      "cell_type": "markdown",
      "metadata": {
        "id": "seWS2cFY65cF"
      },
      "source": [
        "9. How do you handle errors in Flask APIs ?"
      ]
    },
    {
      "cell_type": "markdown",
      "metadata": {
        "id": "BtxsJDQP_d5R"
      },
      "source": [
        "  - Flask lets you handle errors using:\n",
        "1. abort() for quick error returns\n",
        "2. @app.errorhandler() for custom responses\n",
        "3. Try-except blocks for handling logic errors\n",
        "4. Custom exception classes for large APIs\n"
      ]
    },
    {
      "cell_type": "markdown",
      "metadata": {
        "id": "wpbyr9kl65ZS"
      },
      "source": [
        "10.  How do you connect Flask to a SQL database ?"
      ]
    },
    {
      "cell_type": "markdown",
      "metadata": {
        "id": "d1Mz3fEf__yX"
      },
      "source": [
        "  - To connect Flask to a SQL database:\n",
        "1. Install and configure Flask-SQLAlchemy\n",
        "2. Define your data models as Python classes\n",
        "3. Use db.session to interact with the database\n",
        "4. Use routes to perform CRUD operations"
      ]
    },
    {
      "cell_type": "markdown",
      "metadata": {
        "id": "FnV75z-c65WZ"
      },
      "source": [
        "11. What is the role of Flask-SQLAlchemy ?"
      ]
    },
    {
      "cell_type": "markdown",
      "metadata": {
        "id": "umPtpJ9aAODL"
      },
      "source": [
        "  - Flask-SQLAlchemy acts as the bridge between Flask and your SQL database, providing a higher-level, Pythonic interface to manage database operations cleanly and efficiently without writing complex SQL code."
      ]
    },
    {
      "cell_type": "markdown",
      "metadata": {
        "id": "SVQmVAGL65Tg"
      },
      "source": [
        "12. What are Flask blueprints, and how are they useful ?"
      ]
    },
    {
      "cell_type": "markdown",
      "metadata": {
        "id": "V8DMtHrAAU0t"
      },
      "source": [
        "  - Flask Blueprints help you structure your Flask app by breaking it into smaller, manageable, and reusable components. They’re essential for building scalable, maintainable Flask applications."
      ]
    },
    {
      "cell_type": "markdown",
      "metadata": {
        "id": "fpon1e8a65Qb"
      },
      "source": [
        "13. What is the purpose of Flask's request object ?"
      ]
    },
    {
      "cell_type": "markdown",
      "metadata": {
        "id": "aWUDBlcMAlPc"
      },
      "source": [
        "  - The Flask request object is your main tool to access and handle all data and metadata sent by the client during an HTTP request, enabling your app to respond dynamically based on the request’s content and context."
      ]
    },
    {
      "cell_type": "markdown",
      "metadata": {
        "id": "wib5Xn8465Nu"
      },
      "source": [
        "14. How do you create a RESTful API endpoint using Flask ?"
      ]
    },
    {
      "cell_type": "markdown",
      "metadata": {
        "id": "RUpvkoIDAr05"
      },
      "source": [
        "  - To create RESTful API endpoints in Flask, you:\n",
        "1. Define routes with the @app.route() decorator and specify HTTP methods.\n",
        "2. Use request to handle incoming data.\n",
        "3. Return JSON responses with jsonify().\n",
        "4. Handle errors and use appropriate HTTP status codes."
      ]
    },
    {
      "cell_type": "markdown",
      "metadata": {
        "id": "_cthY1F565Lp"
      },
      "source": [
        "15.  What is the purpose of Flask's jsonify() function ?"
      ]
    },
    {
      "cell_type": "markdown",
      "metadata": {
        "id": "d808fsPVA2le"
      },
      "source": [
        "  - Use jsonify() whenever you want to return JSON responses from your Flask endpoints in a clean, safe, and standardized way. It simplifies creating RESTful APIs by handling serialization and response headers automatically."
      ]
    },
    {
      "cell_type": "markdown",
      "metadata": {
        "id": "3b6GBUMh65H3"
      },
      "source": [
        "16. Explain Flask’s url_for() function."
      ]
    },
    {
      "cell_type": "markdown",
      "metadata": {
        "id": "ABX19jIWA9kb"
      },
      "source": [
        "  - url_for() generates URLs dynamically using the route’s function name and parameters. It’s essential for writing clean, maintainable Flask applications where URLs are built programmatically rather than hardcoded."
      ]
    },
    {
      "cell_type": "markdown",
      "metadata": {
        "id": "-1U2pCH765FC"
      },
      "source": [
        "17. How does Flask handle static files (CSS, JavaScript, etc.) ?"
      ]
    },
    {
      "cell_type": "markdown",
      "metadata": {
        "id": "L-M8NdMpBMbi"
      },
      "source": [
        "  - . Flask serves static files automatically from a static folder.\n",
        "  - Access static files via /static/filename.\n",
        "  - Use url_for('static', filename='...') to link static assets.\n",
        "  - You can customize the static folder and URL if needed."
      ]
    },
    {
      "cell_type": "markdown",
      "metadata": {
        "id": "jcCLmZes65CH"
      },
      "source": [
        "18.  What is an API specification, and how does it help in building a Flask API ?"
      ]
    },
    {
      "cell_type": "markdown",
      "metadata": {
        "id": "sw7GjHmABda5"
      },
      "source": [
        "  - An API specification is a formal definition of your API’s design that acts as a guide and contract, improving clarity, consistency, documentation, testing, and development when building Flask APIs."
      ]
    },
    {
      "cell_type": "markdown",
      "metadata": {
        "id": "4WIHMY3i64_N"
      },
      "source": [
        "19. What are HTTP status codes, and why are they important in a Flask API ?"
      ]
    },
    {
      "cell_type": "markdown",
      "metadata": {
        "id": "UzkHbRmKBi3u"
      },
      "source": [
        "  - HTTP status codes are essential in Flask APIs because they provide standardized communication about request outcomes, improve client-server interaction, and make APIs more reliable and easier to maintain."
      ]
    },
    {
      "cell_type": "markdown",
      "metadata": {
        "id": "Hm3x02-W648i"
      },
      "source": [
        "20.  How do you handle POST requests in Flask ?"
      ]
    },
    {
      "cell_type": "markdown",
      "metadata": {
        "id": "MDprv6XOBo54"
      },
      "source": [
        "  - Use methods=['POST'] in your route decorator.\n",
        "  - Access data with request.get_json() for JSON or request.form for form data.\n",
        "  - Return a JSON response with appropriate status codes."
      ]
    },
    {
      "cell_type": "markdown",
      "metadata": {
        "id": "6pxxtRoB645m"
      },
      "source": [
        "21. How would you secure a Flask API ?"
      ]
    },
    {
      "cell_type": "markdown",
      "metadata": {
        "id": "2Nf5AwhlByJG"
      },
      "source": [
        "  - Securing a Flask API requires authentication, HTTPS, input validation, rate limiting, secure error handling, and using security headers. Leveraging Flask extensions and following best practices will help keep your API safe."
      ]
    },
    {
      "cell_type": "markdown",
      "metadata": {
        "id": "9ZpH6JAW642f"
      },
      "source": [
        "22. What is the significance of the Flask-RESTful extension ?"
      ]
    },
    {
      "cell_type": "markdown",
      "metadata": {
        "id": "ppEZPboDB2ar"
      },
      "source": [
        "  - Flask-RESTful streamlines building REST APIs by introducing resource classes, simplifying request parsing, and automating response formatting—helping developers build clean, maintainable, and scalable Flask APIs faster."
      ]
    },
    {
      "cell_type": "markdown",
      "metadata": {
        "id": "3Ca1WUJI64zs"
      },
      "source": [
        "23. What is the role of Flask’s session object ?"
      ]
    },
    {
      "cell_type": "markdown",
      "metadata": {
        "id": "EbTaXhgWB8gp"
      },
      "source": [
        "  - The Flask session object is crucial for maintaining user-specific data across requests, enabling features like login sessions, shopping carts, and user preferences in Flask web apps. It relies on secure cookies to track sessions without server-side state management."
      ]
    },
    {
      "cell_type": "markdown",
      "metadata": {
        "id": "nPTQgjpO64w3"
      },
      "source": [
        "# Practical Questions"
      ]
    },
    {
      "cell_type": "markdown",
      "metadata": {
        "id": "g6p-6-1O64tz"
      },
      "source": [
        "1. How do you create a basic Flask application ?"
      ]
    },
    {
      "cell_type": "markdown",
      "metadata": {
        "id": "gXa6pEEOCLNH"
      },
      "source": [
        "  - Step 1: Install Flask\n",
        "  - Step 2: Create a Python file (e.g., app.py)\n",
        "  - Step 3: Run the app\n",
        "  - Step 4: Open your browser\n",
        "  "
      ]
    },
    {
      "cell_type": "code",
      "execution_count": null,
      "metadata": {
        "colab": {
          "base_uri": "https://localhost:8080/"
        },
        "id": "1iJ0DXA_Cb_G",
        "outputId": "fa0e2d3d-7381-4121-d06c-c2a50cbc1368"
      },
      "outputs": [
        {
          "name": "stdout",
          "output_type": "stream",
          "text": [
            " * Serving Flask app '__main__'\n",
            " * Debug mode: on\n"
          ]
        },
        {
          "name": "stderr",
          "output_type": "stream",
          "text": [
            "INFO:werkzeug:\u001b[31m\u001b[1mWARNING: This is a development server. Do not use it in a production deployment. Use a production WSGI server instead.\u001b[0m\n",
            " * Running on http://127.0.0.1:5000\n",
            "INFO:werkzeug:\u001b[33mPress CTRL+C to quit\u001b[0m\n",
            "INFO:werkzeug: * Restarting with stat\n"
          ]
        }
      ],
      "source": [
        "from flask import Flask\n",
        "\n",
        "app = Flask(__name__)\n",
        "\n",
        "@app.route('/')\n",
        "def hello():\n",
        "    return \"Hello, World\"\n",
        "\n",
        "if __name__ == '__main__':\n",
        "    app.run(debug=True)"
      ]
    },
    {
      "cell_type": "markdown",
      "metadata": {
        "id": "GwyJYuGH64q0"
      },
      "source": [
        "2. How do you serve static files like images or CSS in Flask ?"
      ]
    },
    {
      "cell_type": "markdown",
      "metadata": {
        "id": "v_KD2zhFDV4W"
      },
      "source": [
        "  - Place your static files inside a static folder.\n",
        "  - Access them via /static/filename URLs.\n",
        "  - Use url_for('static', filename='...') in templates to link static files.\n",
        "  - You can customize folder names and URLs if needed."
      ]
    },
    {
      "cell_type": "markdown",
      "metadata": {
        "id": "ZHALlse164n-"
      },
      "source": [
        "3.  How do you define different routes with different HTTP methods in Flask ?"
      ]
    },
    {
      "cell_type": "code",
      "execution_count": null,
      "metadata": {
        "colab": {
          "base_uri": "https://localhost:8080/"
        },
        "id": "Cjc2LIcYDuXP",
        "outputId": "03adad08-ffbe-4af3-88cb-42ffd5e4546a"
      },
      "outputs": [
        {
          "name": "stdout",
          "output_type": "stream",
          "text": [
            " * Serving Flask app '__main__'\n",
            " * Debug mode: on\n"
          ]
        },
        {
          "name": "stderr",
          "output_type": "stream",
          "text": [
            "INFO:werkzeug:\u001b[31m\u001b[1mWARNING: This is a development server. Do not use it in a production deployment. Use a production WSGI server instead.\u001b[0m\n",
            " * Running on http://127.0.0.1:5000\n",
            "INFO:werkzeug:\u001b[33mPress CTRL+C to quit\u001b[0m\n",
            "INFO:werkzeug: * Restarting with stat\n"
          ]
        }
      ],
      "source": [
        "@app.route('/item', methods=['GET'])\n",
        "def get_item():\n",
        "    return \"GET item\"\n",
        "\n",
        "@app.route('/item', methods=['POST'])\n",
        "def create_item():\n",
        "    return \"POST item\""
      ]
    },
    {
      "cell_type": "markdown",
      "metadata": {
        "id": "zHLVYnSz64lM"
      },
      "source": [
        "4. How do you render HTML templates in Flask ?"
      ]
    },
    {
      "cell_type": "markdown",
      "metadata": {
        "id": "1s2OG-XsHFzx"
      },
      "source": [
        "  - Put your HTML files inside a templates folder.\n",
        "  - Use render_template('filename.html') to render and return HTML.\n",
        "  - Pass variables to templates as additional keyword arguments.\n",
        "  - Use Jinja2 syntax ({{ }}, {% %}) inside templates to dynamically generate HTML."
      ]
    },
    {
      "cell_type": "code",
      "execution_count": null,
      "metadata": {
        "colab": {
          "background_save": true,
          "base_uri": "https://localhost:8080/"
        },
        "id": "o6aHFRcgHN8Q",
        "outputId": "00caa838-58d0-4ee7-9a65-2a8bd0c25cdd"
      },
      "outputs": [
        {
          "name": "stdout",
          "output_type": "stream",
          "text": [
            " * Serving Flask app '__main__'\n",
            " * Debug mode: on\n"
          ]
        },
        {
          "name": "stderr",
          "output_type": "stream",
          "text": [
            "INFO:werkzeug:\u001b[31m\u001b[1mWARNING: This is a development server. Do not use it in a production deployment. Use a production WSGI server instead.\u001b[0m\n",
            " * Running on http://127.0.0.1:5000\n",
            "INFO:werkzeug:\u001b[33mPress CTRL+C to quit\u001b[0m\n",
            "INFO:werkzeug: * Restarting with stat\n"
          ]
        }
      ],
      "source": [
        "from flask import Flask, render_template\n",
        "\n",
        "app = Flask(__name__)\n",
        "\n",
        "@app.route('/')\n",
        "def home():\n",
        "    return render_template('index.html')\n",
        "\n",
        "if __name__ == '__main__':\n",
        "    app.run(debug=True)"
      ]
    },
    {
      "cell_type": "markdown",
      "metadata": {
        "id": "gMjqOrJY64iR"
      },
      "source": [
        "5.  How can you generate URLs for routes in Flask using url_for ?"
      ]
    },
    {
      "cell_type": "code",
      "execution_count": null,
      "metadata": {
        "id": "V7P3q9T9H0BC"
      },
      "outputs": [],
      "source": [
        "from flask import Flask, url_for\n",
        "\n",
        "app = Flask(__name__)\n",
        "\n",
        "@app.route('/')\n",
        "def home():\n",
        "    return 'Home Page'\n",
        "\n",
        "@app.route('/user/<username>')\n",
        "def profile(username):\n",
        "    return f\"Profile of {username}\"\n",
        "\n",
        "with app.test_request_context():\n",
        "    print(url_for('home'))\n",
        "    print(url_for('profile', username='Biraj'))"
      ]
    },
    {
      "cell_type": "markdown",
      "metadata": {
        "id": "yryTLBPG64fM"
      },
      "source": [
        "6. How do you handle forms in Flask ?"
      ]
    },
    {
      "cell_type": "code",
      "execution_count": null,
      "metadata": {
        "id": "ZCfP46RwI-07"
      },
      "outputs": [],
      "source": [
        "<!DOCTYPE html>\n",
        "<html>\n",
        "<head>\n",
        "    <title>Sample Form</title>\n",
        "</head>\n",
        "<body>\n",
        "    <form method=\"POST\" action=\"/submit\">\n",
        "        <label for=\"name\">Name:</label>\n",
        "        <input type=\"text\" name=\"name\" id=\"name\" required>\n",
        "        <input type=\"submit\" value=\"Submit\">\n",
        "    </form>\n",
        "</body>\n",
        "</html>"
      ]
    },
    {
      "cell_type": "markdown",
      "metadata": {
        "id": "V8h63Nj664cS"
      },
      "source": [
        "7.  How can you validate form data in Flask ?"
      ]
    },
    {
      "cell_type": "markdown",
      "source": [
        "  - In Flask, form data can be validated in several ways depending on the complexity of the application and how structured you want your validation to be. Here are the most common methods:\n",
        "1.   Manual Validation (Basic Approach)\n",
        "2.   Using WTForms (Structured Approach)\n",
        "3.   Using JSON Request Validation (for APIs)\n"
      ],
      "metadata": {
        "id": "m8jz02OZ9FaN"
      }
    },
    {
      "cell_type": "markdown",
      "metadata": {
        "id": "ejSxCo-u64ZL"
      },
      "source": [
        "8.  How do you manage sessions in Flask ?"
      ]
    },
    {
      "cell_type": "markdown",
      "source": [
        "  - Flask sessions are client-side, meaning the data is stored in the user's browser as a secure cookie. Flask signs this cookie using the app’s SECRET_KEY to prevent tampering.\n",
        "\n",
        "1. Setup\n",
        "2. Set Session Data\n",
        "3. Access Session Data\n",
        "4. Clear Session Data (Logout)\n",
        "\n",
        "\n",
        "Important Notes\n",
        "\n",
        "*   session behaves like a Python dictionary.\n",
        "*   All data stored must be JSON-serializable.\n",
        "*   Use a strong secret_key in production (e.g., from secrets.token_hex()).\n"
      ],
      "metadata": {
        "id": "TO9vPrRQ-lIb"
      }
    },
    {
      "cell_type": "markdown",
      "metadata": {
        "id": "aN_dHyIT64WT"
      },
      "source": [
        "9. How do you redirect to a different route in Flask ?"
      ]
    },
    {
      "cell_type": "markdown",
      "source": [
        "  - In Flask, you redirect to a different route using the redirect() function, often in combination with url_for() to generate the target route's URL."
      ],
      "metadata": {
        "id": "u2JwKxCs_chQ"
      }
    },
    {
      "cell_type": "code",
      "source": [
        "from flask import Flask, redirect, url_for\n",
        "\n",
        "app = Flask(__name__)\n",
        "\n",
        "@app.route('/')\n",
        "def home():\n",
        "    return redirect(url_for('dashboard'))\n",
        "\n",
        "@app.route('/dashboard')\n",
        "def dashboard():\n",
        "    return \"Welcome to your dashboard!\""
      ],
      "metadata": {
        "id": "Jcp04Jo0_f-O"
      },
      "execution_count": 2,
      "outputs": []
    },
    {
      "cell_type": "markdown",
      "metadata": {
        "id": "V2TOx7Qg64Tu"
      },
      "source": [
        "10. How do you handle errors in Flask (e.g., 404) ?"
      ]
    },
    {
      "cell_type": "code",
      "source": [
        "# In Flask, you handle errors like 404 (Not Found) or 500 (Internal Server Error) by defining custom error handlers using the @app.errorhandler() decorator.\n",
        "\n",
        "from flask import Flask, render_template\n",
        "\n",
        "app = Flask(__name__)\n",
        "\n",
        "@app.errorhandler(404)\n",
        "def page_not_found(e):\n",
        "    return render_template('404.html'), 404"
      ],
      "metadata": {
        "id": "JgEem9Jt_px2"
      },
      "execution_count": 3,
      "outputs": []
    },
    {
      "cell_type": "markdown",
      "metadata": {
        "id": "t-cPDNms64Q6"
      },
      "source": [
        "11. How do you structure a Flask app using Blueprints ?"
      ]
    },
    {
      "cell_type": "markdown",
      "source": [
        "  - 1.  Define a `Blueprint` using `Blueprint(name, import_name)`           |\n",
        "2. Add routes to it                                                    |\n",
        "3. Register it in your main app using `app.register_blueprint()`       |\n",
        "4. (Optional) Use `url_prefix` and `template_folder` for customization |\n"
      ],
      "metadata": {
        "id": "mUdtzR9Q_9dx"
      }
    },
    {
      "cell_type": "markdown",
      "metadata": {
        "id": "0tYJDsDk64OQ"
      },
      "source": [
        "12. How do you define a custom Jinja filter in Flask ?"
      ]
    },
    {
      "cell_type": "code",
      "source": [
        "def reverse_string(s):\n",
        "    return s[::-1]"
      ],
      "metadata": {
        "id": "0iwd-dI0AjDn"
      },
      "execution_count": 4,
      "outputs": []
    },
    {
      "cell_type": "markdown",
      "metadata": {
        "id": "Vf02f1a-64LU"
      },
      "source": [
        "13.  How can you redirect with query parameters in Flask ?"
      ]
    },
    {
      "cell_type": "code",
      "source": [
        "# In Flask, to redirect with query parameters, you can use redirect() in combination with url_for(), passing the parameters as keyword arguments.\n",
        "\n",
        "@app.route('/search')\n",
        "def search():\n",
        "    query = request.args.get('q')\n",
        "    return f\"Search results for: {query}\""
      ],
      "metadata": {
        "id": "cP4p3ztOAs0o"
      },
      "execution_count": 5,
      "outputs": []
    },
    {
      "cell_type": "markdown",
      "metadata": {
        "id": "-e89qaYe64Iz"
      },
      "source": [
        "14. How do you return JSON responses in Flask ?"
      ]
    },
    {
      "cell_type": "code",
      "source": [
        "# Flask provides a handy function jsonify() that converts your data to JSON and sets the correct Content-Type header.\n",
        "\n",
        "from flask import Flask, jsonify\n",
        "\n",
        "app = Flask(__name__)\n",
        "\n",
        "@app.route('/api/data')\n",
        "def api_data():\n",
        "    data = {'name': 'Alice', 'age': 30}\n",
        "    return jsonify(data)"
      ],
      "metadata": {
        "id": "5cTQYJiiA4lZ"
      },
      "execution_count": 6,
      "outputs": []
    },
    {
      "cell_type": "markdown",
      "metadata": {
        "id": "x35_O7VK64GF"
      },
      "source": [
        "15. How do you capture URL parameters in Flask ?"
      ]
    },
    {
      "cell_type": "code",
      "source": [
        "@app.route('/user/<username>')\n",
        "def user_profile(username):\n",
        "    return f\"Hello, {username}!\""
      ],
      "metadata": {
        "id": "5cxnI067BDXR"
      },
      "execution_count": 7,
      "outputs": []
    }
  ],
  "metadata": {
    "colab": {
      "provenance": []
    },
    "kernelspec": {
      "display_name": "Python 3",
      "name": "python3"
    },
    "language_info": {
      "name": "python"
    }
  },
  "nbformat": 4,
  "nbformat_minor": 0
}